{
  "nbformat": 4,
  "nbformat_minor": 0,
  "metadata": {
    "colab": {
      "name": "moving averages",
      "provenance": [],
      "authorship_tag": "ABX9TyPmNOFXIk1UYIShmHEzYUNz",
      "include_colab_link": true
    },
    "kernelspec": {
      "name": "python3",
      "display_name": "Python 3"
    }
  },
  "cells": [
    {
      "cell_type": "markdown",
      "metadata": {
        "id": "view-in-github",
        "colab_type": "text"
      },
      "source": [
        "<a href=\"https://colab.research.google.com/github/xuover/google-homepage/blob/master/moving_averages.ipynb\" target=\"_parent\"><img src=\"https://colab.research.google.com/assets/colab-badge.svg\" alt=\"Open In Colab\"/></a>"
      ]
    },
    {
      "cell_type": "code",
      "metadata": {
        "id": "6ZU3ihj2zxmP",
        "colab_type": "code",
        "colab": {}
      },
      "source": [
        "# This program attempts to calculate P20DMA for a users selected holdings\n",
        "# credit \"Richard Moglen\" YouTube channel"
      ],
      "execution_count": 0,
      "outputs": []
    },
    {
      "cell_type": "code",
      "metadata": {
        "id": "VEAi_xsRYSbf",
        "colab_type": "code",
        "colab": {}
      },
      "source": [
        "import pandas as pd\n",
        "import numpy as np\n",
        "import yfinance as yf\n",
        "import datetime as dt\n",
        "from pandas_datareader import data as pdr "
      ],
      "execution_count": 0,
      "outputs": []
    },
    {
      "cell_type": "code",
      "metadata": {
        "id": "3SKRC-zAacMO",
        "colab_type": "code",
        "colab": {}
      },
      "source": [
        "# Workaround for yfinance\n",
        "yf.pdr_override()"
      ],
      "execution_count": 0,
      "outputs": []
    },
    {
      "cell_type": "code",
      "metadata": {
        "id": "lXTLXvX7Znqg",
        "colab_type": "code",
        "colab": {
          "base_uri": "https://localhost:8080/",
          "height": 241
        },
        "outputId": "1cbe4d95-1ca0-48b8-9861-e13e10254d13"
      },
      "source": [
        "!pip install yfinance"
      ],
      "execution_count": 21,
      "outputs": [
        {
          "output_type": "stream",
          "text": [
            "Requirement already satisfied: yfinance in /usr/local/lib/python3.6/dist-packages (0.1.54)\n",
            "Requirement already satisfied: multitasking>=0.0.7 in /usr/local/lib/python3.6/dist-packages (from yfinance) (0.0.9)\n",
            "Requirement already satisfied: numpy>=1.15 in /usr/local/lib/python3.6/dist-packages (from yfinance) (1.18.2)\n",
            "Requirement already satisfied: requests>=2.20 in /usr/local/lib/python3.6/dist-packages (from yfinance) (2.21.0)\n",
            "Requirement already satisfied: pandas>=0.24 in /usr/local/lib/python3.6/dist-packages (from yfinance) (0.25.3)\n",
            "Requirement already satisfied: chardet<3.1.0,>=3.0.2 in /usr/local/lib/python3.6/dist-packages (from requests>=2.20->yfinance) (3.0.4)\n",
            "Requirement already satisfied: idna<2.9,>=2.5 in /usr/local/lib/python3.6/dist-packages (from requests>=2.20->yfinance) (2.8)\n",
            "Requirement already satisfied: urllib3<1.25,>=1.21.1 in /usr/local/lib/python3.6/dist-packages (from requests>=2.20->yfinance) (1.24.3)\n",
            "Requirement already satisfied: certifi>=2017.4.17 in /usr/local/lib/python3.6/dist-packages (from requests>=2.20->yfinance) (2019.11.28)\n",
            "Requirement already satisfied: python-dateutil>=2.6.1 in /usr/local/lib/python3.6/dist-packages (from pandas>=0.24->yfinance) (2.8.1)\n",
            "Requirement already satisfied: pytz>=2017.2 in /usr/local/lib/python3.6/dist-packages (from pandas>=0.24->yfinance) (2018.9)\n",
            "Requirement already satisfied: six>=1.5 in /usr/local/lib/python3.6/dist-packages (from python-dateutil>=2.6.1->pandas>=0.24->yfinance) (1.12.0)\n"
          ],
          "name": "stdout"
        }
      ]
    },
    {
      "cell_type": "code",
      "metadata": {
        "id": "cHmHhlyRasLn",
        "colab_type": "code",
        "colab": {
          "base_uri": "https://localhost:8080/",
          "height": 102
        },
        "outputId": "82e21db3-9e2f-4331-dd75-dfbaf0746dc3"
      },
      "source": [
        "# Inputs from user interface\n",
        "\n",
        "stock = input(\"Enter a ticker symbol: \")\n",
        "print(stock)\n",
        "\n",
        "startyear = int(input(\"Enter start year: \"))\n",
        "startmonth = int(input(\"Enter start month: \"))\n",
        "startday = int(input(\"Enter start day: \"))\n",
        "\n",
        "start = dt.datetime(startyear, startmonth, startday)\n",
        "\n",
        "now = dt.datetime.now()"
      ],
      "execution_count": 22,
      "outputs": [
        {
          "output_type": "stream",
          "text": [
            "Enter a ticker symbol: qqq\n",
            "qqq\n",
            "Enter start year: 2009\n",
            "Enter start month: 1\n",
            "Enter start day: 1\n"
          ],
          "name": "stdout"
        }
      ]
    },
    {
      "cell_type": "code",
      "metadata": {
        "id": "qO0-11z_boRz",
        "colab_type": "code",
        "colab": {
          "base_uri": "https://localhost:8080/",
          "height": 289
        },
        "outputId": "596836b7-dc57-4a42-84e2-4a840a2a3c58"
      },
      "source": [
        "# Get dataframe for stock\n",
        "\n",
        "df = pdr.get_data_yahoo(stock, start, now)\n",
        "print(df)\n"
      ],
      "execution_count": 23,
      "outputs": [
        {
          "output_type": "stream",
          "text": [
            "\r[*********************100%***********************]  1 of 1 completed\n",
            "                  Open        High  ...   Adj Close     Volume\n",
            "Date                                ...                       \n",
            "2009-01-02   29.750000   31.129999  ...   27.793058  107891500\n",
            "2009-01-05   30.830000   31.330000  ...   27.784103   91751900\n",
            "2009-01-06   31.250000   31.629999  ...   28.061762  136791700\n",
            "2009-01-07   30.730000   30.900000  ...   27.264603  133879800\n",
            "2009-01-08   30.379999   30.799999  ...   27.551231  131926600\n",
            "...                ...         ...  ...         ...        ...\n",
            "2020-03-16  171.500000  184.679993  ...  169.300003   92054400\n",
            "2020-03-17  175.339996  184.389999  ...  182.139999  121257100\n",
            "2020-03-18  171.500000  179.220001  ...  176.600006  114156300\n",
            "2020-03-19  175.429993  183.490005  ...  177.660004  120896500\n",
            "2020-03-20  181.889999  182.869995  ...  170.699997  114747100\n",
            "\n",
            "[2823 rows x 6 columns]\n"
          ],
          "name": "stdout"
        }
      ]
    },
    {
      "cell_type": "code",
      "metadata": {
        "id": "KAjjwrAjhzUT",
        "colab_type": "code",
        "colab": {
          "base_uri": "https://localhost:8080/",
          "height": 272
        },
        "outputId": "b07dec94-33ef-4ad5-d660-954764e3253e"
      },
      "source": [
        "# Calc 20D moving average\n",
        "\n",
        "ma = 20\n",
        "\n",
        "smaString = \"sma_\"+str(ma)\n",
        "\n",
        "df[smaString] = df.iloc[:,4].rolling(window=ma).mean()\n",
        "\n",
        "print(df)"
      ],
      "execution_count": 24,
      "outputs": [
        {
          "output_type": "stream",
          "text": [
            "                  Open        High  ...     Volume      sma_20\n",
            "Date                                ...                       \n",
            "2009-01-02   29.750000   31.129999  ...  107891500         NaN\n",
            "2009-01-05   30.830000   31.330000  ...   91751900         NaN\n",
            "2009-01-06   31.250000   31.629999  ...  136791700         NaN\n",
            "2009-01-07   30.730000   30.900000  ...  133879800         NaN\n",
            "2009-01-08   30.379999   30.799999  ...  131926600         NaN\n",
            "...                ...         ...  ...        ...         ...\n",
            "2020-03-16  171.500000  184.679993  ...   92054400  209.851500\n",
            "2020-03-17  175.339996  184.389999  ...  121257100  207.222000\n",
            "2020-03-18  171.500000  179.220001  ...  114156300  204.203001\n",
            "2020-03-19  175.429993  183.490005  ...  120896500  201.347001\n",
            "2020-03-20  181.889999  182.869995  ...  114747100  198.368501\n",
            "\n",
            "[2823 rows x 7 columns]\n"
          ],
          "name": "stdout"
        }
      ]
    }
  ]
}